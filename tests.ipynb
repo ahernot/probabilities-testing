{
 "cells": [
  {
   "cell_type": "code",
   "execution_count": 58,
   "metadata": {},
   "outputs": [],
   "source": [
    "import numpy as np\n",
    "import random as rd"
   ]
  },
  {
   "cell_type": "code",
   "execution_count": 76,
   "metadata": {},
   "outputs": [],
   "source": [
    "# generate random distribution\n",
    "randarr = np.arange(100)\n",
    "np.random.shuffle(randarr)\n",
    "randarr\n",
    "\n",
    "\n",
    "rand_list = list()\n",
    "\n",
    "# fill array\n",
    "for pos in range(100):\n",
    "    while True:\n",
    "        nb = rd.randint(0, 99)\n",
    "        if nb not in rand_list: break\n",
    "    rand_list.append(nb)\n",
    "\n",
    "randarr = np.array(rand_list)\n",
    "# print(np.sum(randarr), np.sum(np.arange(100)))"
   ]
  },
  {
   "cell_type": "code",
   "execution_count": 77,
   "metadata": {},
   "outputs": [],
   "source": [
    "def run ():\n",
    "    for prisoner_id in range(100):\n",
    "        found = False\n",
    "\n",
    "        arr_id = prisoner_id\n",
    "        for check in range(50):\n",
    "            arr_id = randarr[arr_id]\n",
    "\n",
    "            if arr_id == prisoner_id:\n",
    "                found = True\n",
    "                break\n",
    "        \n",
    "        if not found: return 0  # break if one of the prisoners doesn't find their number\n",
    "    return 1"
   ]
  },
  {
   "cell_type": "code",
   "execution_count": 78,
   "metadata": {},
   "outputs": [
    {
     "name": "stdout",
     "output_type": "stream",
     "text": [
      "1.0\n"
     ]
    }
   ],
   "source": [
    "res = 0\n",
    "iter_nb = 1000\n",
    "for iter in range(iter_nb):\n",
    "    res += run()\n",
    "print(res / iter_nb)"
   ]
  },
  {
   "cell_type": "code",
   "execution_count": null,
   "metadata": {},
   "outputs": [],
   "source": []
  }
 ],
 "metadata": {
  "kernelspec": {
   "display_name": "Python 3.9.0 64-bit",
   "language": "python",
   "name": "python3"
  },
  "language_info": {
   "codemirror_mode": {
    "name": "ipython",
    "version": 3
   },
   "file_extension": ".py",
   "mimetype": "text/x-python",
   "name": "python",
   "nbconvert_exporter": "python",
   "pygments_lexer": "ipython3",
   "version": "3.9.0"
  },
  "orig_nbformat": 4,
  "vscode": {
   "interpreter": {
    "hash": "397704579725e15f5c7cb49fe5f0341eb7531c82d19f2c29d197e8b64ab5776b"
   }
  }
 },
 "nbformat": 4,
 "nbformat_minor": 2
}
